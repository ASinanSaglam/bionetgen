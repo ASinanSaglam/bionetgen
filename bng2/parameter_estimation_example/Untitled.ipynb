{
 "cells": [
  {
   "cell_type": "code",
   "execution_count": 1,
   "metadata": {
    "collapsed": false
   },
   "outputs": [],
   "source": [
    "import sys\n",
    "import random\n",
    "import numpy\n",
    "import copy\n",
    "import matplotlib.pyplot as plt\n",
    "%matplotlib inline "
   ]
  },
  {
   "cell_type": "code",
   "execution_count": 10,
   "metadata": {
    "collapsed": false
   },
   "outputs": [
    {
     "name": "stdout",
     "output_type": "stream",
     "text": [
      "[['#', 'time', 'SP'], ['0.000000000000e+00', '0.000000000000e+00'], ['2.000000000000e+03', '1.072280755051e+02'], ['4.000000000000e+03', '2.117298750878e+02'], ['6.000000000000e+03', '3.121392049685e+02'], ['8.000000000000e+03', '4.060871482070e+02'], ['1.000000000000e+04', '4.890213096576e+02'], ['1.200000000000e+04', '5.524970994529e+02'], ['1.400000000000e+04', '5.873483929843e+02'], ['1.600000000000e+04', '5.988232265734e+02'], ['1.800000000000e+04', '6.013869293228e+02'], ['2.000000000000e+04', '6.018848162740e+02']]\n"
     ]
    }
   ],
   "source": [
    "# Open MM.gdat\n",
    "file = open('MM.gdat')\n",
    "lst = []\n",
    "for line in file:\n",
    "    lst += [line.split()]\n",
    "print lst"
   ]
  },
  {
   "cell_type": "code",
   "execution_count": 16,
   "metadata": {
    "collapsed": false
   },
   "outputs": [
    {
     "name": "stdout",
     "output_type": "stream",
     "text": [
      "['time', '0.000000000000e+00', '1.072280755051e+02', '2.117298750878e+02', '3.121392049685e+02', '4.060871482070e+02', '4.890213096576e+02', '5.524970994529e+02', '5.873483929843e+02', '5.988232265734e+02', '6.013869293228e+02', '6.018848162740e+02']\n",
      "['time', 0.0, 97.3532382086339, 243.61873193933135, 258.9777250520137, 378.7330279453401, 566.3273288631241, 561.2979864484274, 637.517933402735, 534.4475453604448, 586.9737480472405, 566.5861011090499]\n"
     ]
    },
    {
     "data": {
      "image/png": "[encoded data removed]",
      "text/plain": [
       "<matplotlib.figure.Figure at 0x109545b10>"
      ]
     },
     "metadata": {},
     "output_type": "display_data"
    }
   ],
   "source": [
    "# add some noise to the simulated data\n",
    "noisy_list = copy.deepcopy(lst);\n",
    "for i in range(1,len(lst)):\n",
    "    noisy_list[i][1] = float(lst[i][1]) + float(numpy.random.normal())*float(lst[i][1])/10;\n",
    "#print noisy_list[1:];\n",
    "time = [x[0] for x in noisy_list]\n",
    "el = [x[1] for x in noisy_list]\n",
    "original = [x[1] for x in lst]\n",
    "print original\n",
    "print el\n",
    "plt.plot(time[1:],el[1:],'.')\n",
    "plt.hold\n",
    "plt.plot(time[1:],original[1:])\n",
    "plt.show()"
   ]
  },
  {
   "cell_type": "code",
   "execution_count": 26,
   "metadata": {
    "collapsed": false
   },
   "outputs": [],
   "source": [
    "# save noisy data to file\n",
    "f = open('noisydata.gdat', 'w')\n",
    "for element in noisy_list:\n",
    "    f.write(\"%s\\t\" % element[0])\n",
    "    f.write(\"%s\\n\" % element[1])"
   ]
  }
 ],
 "metadata": {
  "kernelspec": {
   "display_name": "Python 2",
   "language": "python",
   "name": "python2"
  },
  "language_info": {
   "codemirror_mode": {
    "name": "ipython",
    "version": 2
   },
   "file_extension": ".py",
   "mimetype": "text/x-python",
   "name": "python",
   "nbconvert_exporter": "python",
   "pygments_lexer": "ipython2",
   "version": "2.7.5"
  }
 },
 "nbformat": 4,
 "nbformat_minor": 2
}
