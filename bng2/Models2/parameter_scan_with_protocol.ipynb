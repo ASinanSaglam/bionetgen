{
 "cells": [
  {
   "cell_type": "code",
   "execution_count": 2,
   "metadata": {},
   "outputs": [
    {
     "name": "stdout",
     "output_type": "stream",
     "text": [
      "['0.000000000000e+00', '1.200000000000e+01', '2.400000000000e+01', '3.600000000000e+01', '4.800000000000e+01', '6.000000000000e+01', '7.200000000000e+01', '8.400000000000e+01', '9.600000000000e+01', '1.080000000000e+02', '1.200000000000e+02', '1.320000000000e+02', '1.440000000000e+02', '1.560000000000e+02', '1.680000000000e+02', '1.800000000000e+02', '1.920000000000e+02', '2.040000000000e+02', '2.160000000000e+02']\n",
      "['1.160481975869e+04', '1.160482005300e+04', '1.160482060573e+04', '1.160482587813e+04', '1.160486277243e+04', '1.160502342059e+04', '1.160553400758e+04', '1.160684109161e+04', '1.160969625229e+04', '1.161520937062e+04', '1.162483590488e+04', '1.164027289530e+04', '1.166326685606e+04', '1.169537589785e+04', '1.173775651133e+04', '1.179104162861e+04', '1.185533978702e+04', '1.193033673648e+04', '1.201544764108e+04']\n"
     ]
    },
    {
     "data": {
      "text/plain": [
       "[<matplotlib.lines.Line2D at 0x2ba8d30b5ac8>]"
      ]
     },
     "execution_count": 2,
     "metadata": {},
     "output_type": "execute_result"
    },
    {
     "data": {
      "image/png": "[encoded data removed]",
      "text/plain": [
       "<matplotlib.figure.Figure at 0x2ba8d7aecc50>"
      ]
     },
     "metadata": {},
     "output_type": "display_data"
    }
   ],
   "source": [
    "import sys\n",
    "from matplotlib import pyplot as plt\n",
    "%matplotlib inline\n",
    "vals= [2,3.4,4,5]\n",
    "for i in range(1,5):\n",
    "    file = open('nfkb_illustrating_protocols_R/nfkb_illustrating_protocols_R_0000'+str(i)+'.gdat')\n",
    "    lst = []\n",
    "    for line in file:\n",
    "        lst += [line.split()]\n",
    "    column0 = [x[0] for x in lst]\n",
    "    column1 = [x[1] for x in lst]\n",
    "    plt.plot(column0[1:],column1[1:])\n",
    "    plt.hold"
   ]
  },
  {
   "cell_type": "code",
   "execution_count": null,
   "metadata": {},
   "outputs": [],
   "source": []
  },
  {
   "cell_type": "code",
   "execution_count": 3,
   "metadata": {
    "collapsed": true
   },
   "outputs": [],
   "source": []
  },
  {
   "cell_type": "code",
   "execution_count": null,
   "metadata": {
    "collapsed": true
   },
   "outputs": [],
   "source": []
  },
  {
   "cell_type": "code",
   "execution_count": null,
   "metadata": {
    "collapsed": true
   },
   "outputs": [],
   "source": []
  }
 ],
 "metadata": {
  "kernelspec": {
   "display_name": "Python 3",
   "language": "python",
   "name": "python3"
  },
  "language_info": {
   "codemirror_mode": {
    "name": "ipython",
    "version": 3
   },
   "file_extension": ".py",
   "mimetype": "text/x-python",
   "name": "python",
   "nbconvert_exporter": "python",
   "pygments_lexer": "ipython3",
   "version": "3.4.3"
  }
 },
 "nbformat": 4,
 "nbformat_minor": 2
}
