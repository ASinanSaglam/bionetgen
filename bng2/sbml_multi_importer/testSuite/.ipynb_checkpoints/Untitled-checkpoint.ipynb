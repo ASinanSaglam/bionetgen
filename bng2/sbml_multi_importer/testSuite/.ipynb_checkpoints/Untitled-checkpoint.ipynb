{
 "cells": [
  {
   "cell_type": "code",
   "execution_count": 24,
   "metadata": {},
   "outputs": [
    {
     "name": "stdout",
     "output_type": "stream",
     "text": [
      "\n",
      "begin parameters\n",
      "k\t1.0\n",
      "end parameters\n",
      "begin molecule types \n",
      "B(b)\n",
      "A(a)\n",
      "end molecule types \n",
      "begin seed species\n",
      "B(b)\t50.0\n",
      "A(a)\t100.0\n",
      "end seed species \n",
      "begin reaction rules \n",
      "A(a) + B(b)  <-> A(a!1).B(b!1) \tk\n",
      "end reaction rules \n",
      "\n",
      "#Simple bimolecular association. No symmetry\n",
      "begin model\n",
      "\n",
      "begin parameters\n",
      "k 1\n",
      "end parameters\n",
      "\n",
      "begin molecule types\n",
      "A(a)\n",
      "B(b)\n",
      "end molecule types\n",
      "\n",
      "begin seed species\n",
      "A(a) 100\n",
      "B(b) 50\n",
      "end seed species\n",
      "\n",
      "begin reaction rules\n",
      "A(a) + B(b) -> A(a!1).B(b!1) k\n",
      "end reaction rules\n",
      "\n",
      "end model\n",
      "\n",
      "## actions ##\n",
      "generate_network({overwrite=>1})\n",
      "\n",
      "\n",
      "['begin', 'parameters', 'k', '1.0', 'end', 'parameters', 'begin', 'molecule', 'types', 'B(b)', 'A(a)', 'end', 'molecule', 'types', 'begin', 'seed', 'species', 'B(b)', '50.0', 'A(a)', '100.0', 'end', 'seed', 'species', 'begin', 'reaction', 'rules', 'A(a)', '+', 'B(b)', '<->', 'A(a!1).B(b!1)', 'k', 'end', 'reaction', 'rules']\n",
      "['begin', 'parameters', 'k', '1', 'end', 'parameters', 'begin', 'molecule', 'types', 'A(a)', 'B(b)', 'end', 'molecule', 'types', 'begin', 'seed', 'species', 'A(a)', '100', 'B(b)', '50', 'end', 'seed', 'species', 'begin', 'reaction', 'rules', 'A(a)', '+', 'B(b)', '->', 'A(a!1).B(b!1)', 'k', 'end', 'reaction', 'rules']\n"
     ]
    }
   ],
   "source": [
    "import sys\n",
    "for i in range(1,2):\n",
    "    #Read files\n",
    "    f1 = open('Model'+str(i)+'_sbml_sbmlmulti.bngl')\n",
    "    f2 = open('Model'+str(i)+'.bngl')\n",
    "    s1 = f1.read()\n",
    "    s2 = f2.read()\n",
    "    #Extract the part of the file enclosed with begin and end model\n",
    "    ind11 = s1.index('begin model')+len('begin model')\n",
    "    ind12 = s1.index('end model',ind1)\n",
    "    s1 = s1[ind11:ind12]\n",
    "    print(s1)\n",
    "    print(s2)\n",
    "    ind21 = s2.index('begin model')+len('begin model')\n",
    "    ind22 = s2.index('end model',ind1)\n",
    "    s2 = s2[ind21:ind22]\n",
    "    \n",
    "    ls1 = s1.split('\\n')\n",
    "    ls2 = s2.split('\\n')\n",
    "    print(ls1)\n",
    "    print(ls2)\n"
   ]
  }
 ],
 "metadata": {
  "kernelspec": {
   "display_name": "Python 3",
   "language": "python",
   "name": "python3"
  },
  "language_info": {
   "codemirror_mode": {
    "name": "ipython",
    "version": 3
   },
   "file_extension": ".py",
   "mimetype": "text/x-python",
   "name": "python",
   "nbconvert_exporter": "python",
   "pygments_lexer": "ipython3",
   "version": "3.4.3"
  }
 },
 "nbformat": 4,
 "nbformat_minor": 2
}
