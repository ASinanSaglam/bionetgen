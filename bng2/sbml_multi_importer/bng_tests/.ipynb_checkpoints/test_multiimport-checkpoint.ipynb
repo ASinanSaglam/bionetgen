{
 "cells": [
  {
   "cell_type": "code",
   "execution_count": 9,
   "metadata": {
    "collapsed": true
   },
   "outputs": [],
   "source": [
    "import os\n",
    "import re\n",
    "from __future__ import print_function\n",
    "from ipywidgets import interact, interactive, fixed, interact_manual\n",
    "import ipywidgets as widgets"
   ]
  },
  {
   "cell_type": "code",
   "execution_count": 10,
   "metadata": {
    "collapsed": true
   },
   "outputs": [],
   "source": [
    "all_files = os.listdir()\n",
    "input_bng_files = [x for x in all_files if re.search(\"Model\\d+\\.bngl\",x)]\n",
    "output_bng_files = [x for x in all_files if re.search(\".*sbml_sbmlmulti\\.bngl\",x)]"
   ]
  },
  {
   "cell_type": "code",
   "execution_count": 11,
   "metadata": {},
   "outputs": [
    {
     "data": {
      "application/vnd.jupyter.widget-view+json": {
       "model_id": "f5af62aab2a140078b5290dcb3821ee1",
       "version_major": 2,
       "version_minor": 0
      },
      "text/plain": [
       "A Jupyter Widget"
      ]
     },
     "metadata": {},
     "output_type": "display_data"
    },
    {
     "data": {
      "text/plain": [
       "<function __main__.print_file>"
      ]
     },
     "execution_count": 11,
     "metadata": {},
     "output_type": "execute_result"
    }
   ],
   "source": [
    "def print_file(index):\n",
    "    f_input = open('Model'+str(index)+'.bngl',\"r\")\n",
    "    f_output = open('Model'+str(index)+'_sbml_sbmlmulti.bngl',\"r\")\n",
    "    input_string = f_input.read()\n",
    "    output_string = f_output.read()\n",
    "    print('\\n\\033[1m' +'\\033[1m' +\"INPUT FILE\\n\"+'\\033[0m'+input_string+'-----------------\\n')\n",
    "    print('\\033[1m' +\"OUTPUT FILE\\n\"+'\\033[0m'+output_string)\n",
    "interact(print_file,index=[x for x in range(1,13)])"
   ]
  },
  {
   "cell_type": "code",
   "execution_count": null,
   "metadata": {
    "collapsed": true
   },
   "outputs": [],
   "source": []
  }
 ],
 "metadata": {
  "kernelspec": {
   "display_name": "Python 3",
   "language": "python",
   "name": "python3"
  },
  "language_info": {
   "codemirror_mode": {
    "name": "ipython",
    "version": 3
   },
   "file_extension": ".py",
   "mimetype": "text/x-python",
   "name": "python",
   "nbconvert_exporter": "python",
   "pygments_lexer": "ipython3",
   "version": "3.4.3"
  }
 },
 "nbformat": 4,
 "nbformat_minor": 2
}
