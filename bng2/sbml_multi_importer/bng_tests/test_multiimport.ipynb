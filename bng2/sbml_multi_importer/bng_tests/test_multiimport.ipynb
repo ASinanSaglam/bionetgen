{
 "cells": [
  {
   "cell_type": "code",
   "execution_count": 2,
   "metadata": {
    "collapsed": true
   },
   "outputs": [],
   "source": [
    "import os\n",
    "import re\n",
    "from __future__ import print_function\n",
    "from ipywidgets import interact, interactive, fixed, interact_manual\n",
    "import ipywidgets as widgets"
   ]
  },
  {
   "cell_type": "code",
   "execution_count": 3,
   "metadata": {
    "collapsed": true
   },
   "outputs": [],
   "source": [
    "all_files = os.listdir()\n",
    "input_bng_files = [x for x in all_files if re.search(\"Model\\d+\\.bngl\",x)]\n",
    "output_bng_files = [x for x in all_files if re.search(\".*sbml_sbmlmulti\\.bngl\",x)]"
   ]
  },
  {
   "cell_type": "code",
   "execution_count": 4,
   "metadata": {},
   "outputs": [
    {
     "data": {
      "application/vnd.jupyter.widget-view+json": {
       "model_id": "b4781231b97942ff952a6d60259ea5aa",
       "version_major": 2,
       "version_minor": 0
      },
      "text/plain": [
       "A Jupyter Widget"
      ]
     },
     "metadata": {},
     "output_type": "display_data"
    },
    {
     "data": {
      "text/plain": [
       "<function __main__.print_file>"
      ]
     },
     "execution_count": 4,
     "metadata": {},
     "output_type": "execute_result"
    }
   ],
   "source": [
    "def print_file(index):\n",
    "    f_input = open('Model'+str(index)+'.bngl',\"r\")\n",
    "    f_output = open('Model'+str(index)+'_sbml_sbmlmulti.bngl',\"r\")\n",
    "    input_string = f_input.read()\n",
    "    output_string = f_output.read()\n",
    "    print('\\n\\033[1m' +'\\033[1m' +\"INPUT FILE\\n\"+'\\033[0m'+input_string+'-----------------\\n')\n",
    "    print('\\033[1m' +\"OUTPUT FILE\\n\"+'\\033[0m'+output_string)\n",
    "interact(print_file,index=[x for x in range(1,13)])"
   ]
  },
  {
   "cell_type": "code",
   "execution_count": null,
   "metadata": {
    "collapsed": true
   },
   "outputs": [],
   "source": []
  }
 ],
 "metadata": {
  "kernelspec": {
   "display_name": "Python 3",
   "language": "python",
   "name": "python3"
  },
  "language_info": {
   "codemirror_mode": {
    "name": "ipython",
    "version": 3
   },
   "file_extension": ".py",
   "mimetype": "text/x-python",
   "name": "python",
   "nbconvert_exporter": "python",
   "pygments_lexer": "ipython3",
   "version": "3.4.3"
  },
  "widgets": {
   "application/vnd.jupyter.widget-state+json": {
    "state": {
     "00931a27f36a442faf9d325ed6f65ec6": {
      "model_module": "@jupyter-widgets/base",
      "model_module_version": "1.0.0",
      "model_name": "LayoutModel",
      "state": {}
     },
     "4470aaa846cf45bda23e12daecc30e96": {
      "model_module": "@jupyter-widgets/base",
      "model_module_version": "1.0.0",
      "model_name": "LayoutModel",
      "state": {}
     },
     "a77e551d94634b7faf4d02929bc49afb": {
      "model_module": "@jupyter-widgets/controls",
      "model_module_version": "1.0.0",
      "model_name": "DropdownModel",
      "state": {
       "_options_labels": [
        "1",
        "2",
        "3",
        "4",
        "5",
        "6",
        "7",
        "8",
        "9",
        "10",
        "11",
        "12"
       ],
       "description": "index",
       "index": 0,
       "layout": "IPY_MODEL_fe4bef3ee5364f7cb2633b68e8c911c0",
       "style": "IPY_MODEL_bbb4bba4a0384958b687a4d30bb5e82a"
      }
     },
     "b4781231b97942ff952a6d60259ea5aa": {
      "model_module": "@jupyter-widgets/controls",
      "model_module_version": "1.0.0",
      "model_name": "VBoxModel",
      "state": {
       "_dom_classes": [
        "widget-interact"
       ],
       "children": [
        "IPY_MODEL_a77e551d94634b7faf4d02929bc49afb",
        "IPY_MODEL_c63737863fb245d78dc77a337bbfec1b"
       ],
       "layout": "IPY_MODEL_4470aaa846cf45bda23e12daecc30e96"
      }
     },
     "bbb4bba4a0384958b687a4d30bb5e82a": {
      "model_module": "@jupyter-widgets/controls",
      "model_module_version": "1.0.0",
      "model_name": "DescriptionStyleModel",
      "state": {
       "description_width": ""
      }
     },
     "c63737863fb245d78dc77a337bbfec1b": {
      "model_module": "@jupyter-widgets/output",
      "model_module_version": "1.0.0",
      "model_name": "OutputModel",
      "state": {
       "layout": "IPY_MODEL_00931a27f36a442faf9d325ed6f65ec6",
       "outputs": [
        {
         "name": "stdout",
         "output_type": "stream",
         "text": "\n\u001b[1m\u001b[1mINPUT FILE\n\u001b[0m#Simple bimolecular association. No symmetry. Testing a basic model\nbegin model\n\nbegin parameters\nk 1\nend parameters\n\nbegin molecule types\nA(a)\nB(b)\nend molecule types\n\nbegin seed species\nA(a) 100\nB(b) 50\nend seed species\n\nbegin reaction rules\nA(a) + B(b) -> A(a!1).B(b!1) k\nend reaction rules\n\nend model\n\n## actions ##\ngenerate_network({overwrite=>1})\n\n-----------------\n\n\u001b[1mOUTPUT FILE\n\u001b[0mbegin model\nbegin parameters\nk\t1.0\nend parameters\n\nbegin molecule types \nA(a)\nB(b)\nend molecule types \n\nbegin seed species\nB(b)\t50.0\nA(a)\t100.0\nend seed species \n\nbegin reaction rules \nA(a) + B(b)  -> A(a!1).B(b!1) \tk\nend reaction rules \n\nend model\n\n"
        }
       ]
      }
     },
     "fe4bef3ee5364f7cb2633b68e8c911c0": {
      "model_module": "@jupyter-widgets/base",
      "model_module_version": "1.0.0",
      "model_name": "LayoutModel",
      "state": {}
     }
    },
    "version_major": 2,
    "version_minor": 0
   }
  }
 },
 "nbformat": 4,
 "nbformat_minor": 2
}
