{
 "cells": [
  {
   "cell_type": "code",
   "execution_count": 3,
   "metadata": {},
   "outputs": [],
   "source": [
    "import numpy as np\n",
    "import matplotlib\n",
    "from matplotlib import pyplot as plt\n",
    "import MM\n",
    "from MM import *\n",
    "import yaml\n",
    "import sys\n",
    "sys.path.insert(0, '../')\n",
    "import MCMC"
   ]
  },
  {
   "cell_type": "code",
   "execution_count": 30,
   "metadata": {},
   "outputs": [
    {
     "name": "stdout",
     "output_type": "stream",
     "text": [
      "0.0\t6.02\t602.0\t0.0\t0.0\t\n",
      "\n",
      "2000.0\t0.7038093055111396\t489.2019170167192\t5.316190694488866\t107.48189219702846\t\n",
      "\n",
      "4000.0\t0.867642998748195\t384.57489206249954\t5.15235700125181\t212.27275084448507\t\n",
      "\n",
      "6000.0\t1.117469930186715\t284.0866852940624\t4.902530069813289\t313.01078454436066\t\n",
      "\n",
      "8000.0\t1.5287321513187806\t190.19304844467425\t4.491267848681223\t407.31568361488087\t\n",
      "\n",
      "10000.0\t2.259440867144465\t107.67949875747892\t3.7605591328555357\t490.55994201790173\t\n",
      "\n",
      "12000.0\t3.532508242938202\t45.482538527008\t2.4874917570617985\t554.0299696241663\t\n",
      "\n",
      "14000.0\t5.026516497168919\t12.731172189694208\t0.9934835028310764\t588.2753442157107\t\n",
      "\n",
      "16000.0\t5.784014737101839\t2.6235936456659896\t0.2359852628981585\t599.140420999672\t\n",
      "\n",
      "18000.0\t5.974770832501302\t0.48656706611294565\t0.04522916749869975\t601.4682036746245\t\n",
      "\n",
      "20000.0\t6.011749283855475\t0.08820611171648367\t0.008250716144524916\t601.9035430803752\t\n",
      "\n"
     ]
    }
   ],
   "source": [
    "a = new_doubleArray(5)\n",
    "params =  [-2.77, -1, -2, 6.02, 602]\n",
    "for i in range(0,5):\n",
    "        doubleArray_setitem(a,i,params[i])\n",
    "c = bng_protocol(a)\n",
    "d = doubleArrayClass_frompointer(c)\n",
    "flag = True\n",
    "counter1 = 0\n",
    "species_table = np.zeros((11,5))\n",
    "row_counter=0\n",
    "while(flag):\n",
    "    for counter2 in range(0,5):\n",
    "        print(d[counter1],end='\\t')\n",
    "        species_table[row_counter][counter2] = d[counter1]\n",
    "        counter1+=1\n",
    "    row_counter+=1\n",
    "    print('\\n')\n",
    "    if counter1 == 55:\n",
    "        flag=False"
   ]
  },
  {
   "cell_type": "code",
   "execution_count": 3,
   "metadata": {},
   "outputs": [
    {
     "data": {
      "image/png": "[encoded data removed]",
      "text/plain": [
       "<matplotlib.figure.Figure at 0x2b939cc16a58>"
      ]
     },
     "metadata": {},
     "output_type": "display_data"
    }
   ],
   "source": [
    "for i in range(1,5):\n",
    "    plt.subplot(1,4,i)\n",
    "    plt.plot(species_table[:,0],species_table[:,i])    "
   ]
  },
  {
   "cell_type": "code",
   "execution_count": 15,
   "metadata": {},
   "outputs": [
    {
     "name": "stdout",
     "output_type": "stream",
     "text": [
      "{'pt_config_options': {'adapt_beta_rate': 0.04, 'beta_adapt_last': 250, 'adapt_beta_interval': 100, 'optimal_swap_acceptance': 0.24, 'min_beta_adaptation_factor': 0.8, 'max_beta_adaptation_factor': 1.25, 'adapt_last': 240, 'adapt_relstep_interval': 100, 'adapt_relstep_rate': 0.2, 'optimal_step_acceptance': 0.24, 'min_adaptation_factor': 0.8, 'max_adaptation_factor': 1.25}, 'data_options': {'stdev': 0.01}, 'model_parameter_options': {'k1': {'prior': 'uniform', 'p1': -3, 'p2': -2}, 'k2': {'prior': 'uniform', 'p1': -2, 'p2': 0}, 'k3': {'prior': 'uniform', 'p1': -3, 'p2': -1}, 'E0': {'prior': 'point', 'value': 6.02}, 'S0': {'prior': 'point', 'value': 602}}}\n"
     ]
    }
   ],
   "source": [
    "with open('hyperparameters.yml') as f:\n",
    "    # use safe_load instead load\n",
    "    dataMap = yaml.safe_load(f)\n",
    "print(dataMap)         "
   ]
  },
  {
   "cell_type": "code",
   "execution_count": 5,
   "metadata": {},
   "outputs": [
    {
     "data": {
      "text/plain": [
       "{'stdev': 0.01}"
      ]
     },
     "execution_count": 5,
     "metadata": {},
     "output_type": "execute_result"
    }
   ],
   "source": [
    "dataMap['data_options']"
   ]
  },
  {
   "cell_type": "code",
   "execution_count": 24,
   "metadata": {},
   "outputs": [],
   "source": [
    "def get_species_table(par_array,nrows=11,ncols=5,index=2):\n",
    "    n = len(par_array)\n",
    "    print(par_array)\n",
    "    params = new_doubleArray(n)\n",
    "    for i in range(0,n):\n",
    "            doubleArray_setitem(params,i,par_array[i])\n",
    "    simdata_pointer = bng_protocol(params)\n",
    "    simdata = doubleArrayClass_frompointer(simdata_pointer)\n",
    "    flag = True\n",
    "    counter1 = 0\n",
    "    species_table = np.zeros((nrows,ncols))\n",
    "    row_counter=0\n",
    "    while(flag):\n",
    "        for counter2 in range(0,ncols):\n",
    "            species_table[row_counter][counter2] = simdata[counter1]\n",
    "            counter1+=1\n",
    "        row_counter+=1\n",
    "        if counter1 == nrows*ncols:\n",
    "            flag=False\n",
    "    if index != 1e29:\n",
    "        return species_table[:,index]\n",
    "    else:\n",
    "        return species_table"
   ]
  },
  {
   "cell_type": "code",
   "execution_count": 10,
   "metadata": {},
   "outputs": [
    {
     "name": "stdout",
     "output_type": "stream",
     "text": [
      "[0, 0, 0, 0, 0]\n",
      "[0. 0. 0. 0. 0. 0. 0. 0. 0. 0. 0.]\n"
     ]
    }
   ],
   "source": [
    "par = [0,0,0,0,0]\n",
    "species_table = get_species_table(par)\n",
    "print(species_table)"
   ]
  },
  {
   "cell_type": "code",
   "execution_count": 29,
   "metadata": {},
   "outputs": [],
   "source": [
    "def format_data(filename,dataMap,index):    \n",
    "    data_mean = np.loadtxt('MM.gdat')\n",
    "    data_stdev = dataMap['data_options']['stdev']*data_mean\n",
    "    return {'mean':data_mean[:,index],'stdev':data_stdev[:,index]}"
   ]
  },
  {
   "cell_type": "markdown",
   "metadata": {},
   "source": []
  },
  {
   "cell_type": "code",
   "execution_count": 15,
   "metadata": {},
   "outputs": [
    {
     "name": "stdout",
     "output_type": "stream",
     "text": [
      "[0.0, 3.6914227304885974e-22, 2.0679515313825692e-25, 1.4117678922550055e-21, 6.630660403179463e-22, 4.441428765139491e-22, 3.986511739978004e-24, 1.7708857626824235e-23, 1.0432685471547881e-28, 2.082112077669352e-27, 1.342296134040128e-29]\n"
     ]
    },
    {
     "data": {
      "text/plain": [
       "-9.869617963707989e-22"
      ]
     },
     "execution_count": 15,
     "metadata": {},
     "output_type": "execute_result"
    }
   ],
   "source": [
    "MCMC.loglikelihood_gaussian(par,get_species_table,data)"
   ]
  },
  {
   "cell_type": "code",
   "execution_count": 34,
   "metadata": {},
   "outputs": [
    {
     "name": "stdout",
     "output_type": "stream",
     "text": [
      "[-2.77, -1.5, -2, 6.02, 602]\n",
      "[ 6.02000000e+02  4.81184169e+02  3.67479822e+02  2.56089631e+02\n",
      "  1.49272867e+02  5.47080476e+01  4.31391249e+00  8.00580939e-02\n",
      "  1.32229168e-03  2.19410183e-05 -9.75968546e-07]\n",
      "{'mean': array([6.02000000e+02, 4.89201917e+02, 3.84574892e+02, 2.84086685e+02,\n",
      "       1.90193048e+02, 1.07679499e+02, 4.54825385e+01, 1.27311722e+01,\n",
      "       2.62359365e+00, 4.86567066e-01, 8.82061117e-02]), 'stdev': array([6.02000000e+00, 4.89201917e+00, 3.84574892e+00, 2.84086685e+00,\n",
      "       1.90193048e+00, 1.07679499e+00, 4.54825385e-01, 1.27311722e-01,\n",
      "       2.62359365e-02, 4.86567066e-03, 8.82061117e-04])}\n",
      "[-2.77, -1.5, -2, 6.02, 602]\n"
     ]
    },
    {
     "data": {
      "text/plain": [
       "-25529.67921013887"
      ]
     },
     "execution_count": 34,
     "metadata": {},
     "output_type": "execute_result"
    }
   ],
   "source": [
    "data = format_data('MM.gdat',dataMap,1)\n",
    "par = [-2.77,-1,-2,6.02,602]\n",
    "species_table = get_species_table(par)\n",
    "print(species_table)\n",
    "print(data)\n",
    "MCMC.loglikelihood_gaussian(par,get_species_table,data)"
   ]
  }
 ],
 "metadata": {
  "kernelspec": {
   "display_name": "Python 3",
   "language": "python",
   "name": "python3"
  }
 },
 "nbformat": 4,
 "nbformat_minor": 2
}
