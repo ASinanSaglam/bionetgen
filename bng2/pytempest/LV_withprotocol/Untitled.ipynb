{
 "cells": [
  {
   "cell_type": "code",
   "execution_count": null,
   "metadata": {},
   "outputs": [],
   "source": [
    "import numpy as np\n",
    "import matplotlib\n",
    "from matplotlib import pyplot as plt\n",
    "import LVwp\n",
    "from LVwp import *\n",
    "import yaml\n",
    "import sys\n",
    "sys.path.insert(0, '../')\n",
    "import MCMC"
   ]
  },
  {
   "cell_type": "code",
   "execution_count": null,
   "metadata": {},
   "outputs": [],
   "source": [
    "a = new_doubleArray(3)\n",
    "params =  [1.29e5,66.4451,1.3e5]\n",
    "num_params = 3;\n",
    "num_timepts = 201;\n",
    "num_species = 2;\n",
    "for i in range(0,num_params):\n",
    "        doubleArray_setitem(a,i,params[i])\n",
    "c = bng_protocol(a)\n",
    "d = doubleArrayClass_frompointer(c)\n",
    "flag = True\n",
    "counter1 = 0\n",
    "species_table = np.zeros((num_timepts,num_species+1))\n",
    "row_counter=0\n",
    "while(flag):\n",
    "    for counter2 in range(0,num_species+1):\n",
    "        print(d[counter1],end='\\t')\n",
    "        species_table[row_counter][counter2] = d[counter1]\n",
    "        counter1+=1\n",
    "    row_counter+=1\n",
    "    print('\\n')\n",
    "    if counter1 == (num_timepts)*(num_species+1):\n",
    "        flag=False"
   ]
  },
  {
   "cell_type": "code",
   "execution_count": null,
   "metadata": {},
   "outputs": [],
   "source": [
    "for i in range(1,3):\n",
    "    #plt.subplot(1,3,i)\n",
    "    plt.plot(species_table[:,0],species_table[:,i])    "
   ]
  }
 ],
 "metadata": {
  "kernelspec": {
   "display_name": "Python 3",
   "language": "python",
   "name": "python3"
  },
  "language_info": {
   "codemirror_mode": {
    "name": "ipython",
    "version": 3
   },
   "file_extension": ".py",
   "mimetype": "text/x-python",
   "name": "python",
   "nbconvert_exporter": "python",
   "pygments_lexer": "ipython3",
   "version": "3.6.4"
  }
 },
 "nbformat": 4,
 "nbformat_minor": 2
}
